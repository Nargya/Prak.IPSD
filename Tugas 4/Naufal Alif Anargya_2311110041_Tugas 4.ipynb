{
 "cells": [
  {
   "cell_type": "markdown",
   "metadata": {},
   "source": [
    "#### **Naufal Alif Anargya-2311110041-SD0401**"
   ]
  },
  {
   "cell_type": "code",
   "execution_count": 2,
   "metadata": {
    "id": "gVY9qmuGNf6U"
   },
   "outputs": [],
   "source": [
    "from sklearn.datasets import load_diabetes\n",
    "from sklearn.linear_model import LinearRegression, Lasso, Ridge\n",
    "from sklearn.model_selection import train_test_split\n",
    "from sklearn.metrics import mean_squared_error, r2_score"
   ]
  },
  {
   "cell_type": "markdown",
   "metadata": {},
   "source": [
    "Kode ini menggunakan dataset diabetes dari `sklearn` untuk memprediksi kondisi pasien berdasarkan data kesehatan mereka. Dalam prosesnya, tiga model regresi diterapkan: **Linear Regression** sebagai model dasar, **Lasso Regression** yang menambahkan regularisasi L1 untuk menghilangkan fitur kurang relevan, dan **Ridge Regression** yang menggunakan regularisasi L2 untuk mengecilkan pengaruh fitur yang kurang penting. Dataset dibagi menjadi bagian pelatihan dan pengujian, sehingga performa model dapat dievaluasi menggunakan **Mean Squared Error (MSE)** untuk mengukur rata-rata kesalahan prediksi (semakin kecil, semakin baik) dan **R² Score** untuk melihat seberapa baik model menjelaskan variasi data (nilai mendekati 1 menunjukkan performa yang lebih baik). Melalui pendekatan ini, kode bertujuan membandingkan ketiga model regresi dalam memprediksi kondisi pasien diabetes."
   ]
  },
  {
   "cell_type": "code",
   "execution_count": 3,
   "metadata": {
    "id": "DT56B3zNOOcR"
   },
   "outputs": [],
   "source": [
    "x, y = load_diabetes(return_X_y=True)"
   ]
  },
  {
   "cell_type": "markdown",
   "metadata": {},
   "source": [
    "Kode `x, y = load_diabetes(return_X_y=True)` berfungsi untuk memuat dataset diabetes dari sklearn dan langsung memisahkan data input (fitur) dan target. \n",
    "- x = nilai fitur\n",
    "- y = nilai target"
   ]
  },
  {
   "cell_type": "code",
   "execution_count": 4,
   "metadata": {
    "id": "9U8HVZP7OQ4l"
   },
   "outputs": [],
   "source": [
    "lr = LinearRegression()"
   ]
  },
  {
   "cell_type": "markdown",
   "metadata": {},
   "source": [
    "Kode `lr = LinearRegression()` membuat sebuah instance dari model Linear Regression dari library sklearn."
   ]
  },
  {
   "cell_type": "code",
   "execution_count": 5,
   "metadata": {
    "colab": {
     "base_uri": "https://localhost:8080/"
    },
    "id": "tLM0KiKhP2Uf",
    "outputId": "3c953c36-ee91-4856-d82f-d18ec9164d72"
   },
   "outputs": [
    {
     "data": {
      "text/plain": [
       "10"
      ]
     },
     "execution_count": 5,
     "metadata": {},
     "output_type": "execute_result"
    }
   ],
   "source": [
    "len(load_diabetes()['feature_names'])"
   ]
  },
  {
   "cell_type": "markdown",
   "metadata": {},
   "source": [
    "Code tersebut berguna untuk menghitung jumlah fitur dalam dataset yang dimana setelah kita lihat pada output menunjukkan bahwa dataset memiliki 10 fitur atau variabel yang digunakan sebagai input untuk model prediksi."
   ]
  },
  {
   "cell_type": "code",
   "execution_count": 6,
   "metadata": {
    "id": "BAbccG0DPMj3"
   },
   "outputs": [],
   "source": [
    "lr.fit(x, y)\n",
    "y_pred = lr.predict(x)"
   ]
  },
  {
   "cell_type": "markdown",
   "metadata": {},
   "source": [
    "Kode tersebut digunakan untuk melatih model regresi linier dan memprediksi nilai target. `lr.fit(x, y)` melatih model menggunakan fitur `x` dan target `y`, sementara `y_pred = lr.predict(x)` menghasilkan prediksi berdasarkan fitur yang sama. Dengan cara ini, model belajar dari data untuk memahami hubungan antara variabel independen dan dependen, sehingga bisa digunakan untuk membuat prediksi di masa mendatang."
   ]
  },
  {
   "cell_type": "code",
   "execution_count": 7,
   "metadata": {
    "colab": {
     "base_uri": "https://localhost:8080/"
    },
    "id": "z2g9jvt0PTrw",
    "outputId": "b90fa937-3f10-4bd1-b3d9-bc37a23f11e5"
   },
   "outputs": [
    {
     "name": "stdout",
     "output_type": "stream",
     "text": [
      "0.5177484222203498\n"
     ]
    }
   ],
   "source": [
    "print(r2_score(y, y_pred))"
   ]
  },
  {
   "cell_type": "markdown",
   "metadata": {},
   "source": [
    "R² Score: 0.5177, yang berarti model menjelaskan sekitar 51,77% dari variasi data target. Ini menunjukkan hubungan moderat, tetapi tidak terlalu kuat."
   ]
  },
  {
   "cell_type": "code",
   "execution_count": 8,
   "metadata": {
    "colab": {
     "base_uri": "https://localhost:8080/"
    },
    "id": "dYsLiUUUPdaq",
    "outputId": "880a36b0-b45f-4f9e-86c6-c984830fdd9c"
   },
   "outputs": [
    {
     "name": "stdout",
     "output_type": "stream",
     "text": [
      "2859.6963475867506\n"
     ]
    }
   ],
   "source": [
    "print(mean_squared_error(y, y_pred))"
   ]
  },
  {
   "cell_type": "markdown",
   "metadata": {},
   "source": [
    "Mean Squared Error (MSE): 2859.6963, yang mengindikasikan rata-rata kuadrat kesalahan prediksi. MSE ini relatif tinggi, menunjukkan bahwa terdapat deviasi yang cukup besar antara nilai prediksi dan aktual."
   ]
  },
  {
   "cell_type": "code",
   "execution_count": 9,
   "metadata": {
    "id": "NSovgppnRK8N"
   },
   "outputs": [],
   "source": [
    "from sklearn.model_selection import train_test_split\n",
    "x_train, x_test, y_train, y_test = train_test_split(x, y, test_size=0.2, random_state=42)"
   ]
  },
  {
   "cell_type": "markdown",
   "metadata": {},
   "source": [
    "Kode tersebut digunakan untuk membagi dataset menjadi data pelatihan dan pengujian. `train_test_split(x, y, test_size=0.2, random_state=42)` membagi 80% data untuk pelatihan (`x_train`, `y_train`) dan 20% untuk pengujian (`x_test`, `y_test`). Dengan cara ini, model dapat dilatih pada satu subset dan diuji pada subset lainnya untuk mengevaluasi kinerjanya. Parameter `random_state` memastikan bahwa pembagian data dapat direproduksi."
   ]
  },
  {
   "cell_type": "code",
   "execution_count": 10,
   "metadata": {
    "colab": {
     "base_uri": "https://localhost:8080/"
    },
    "id": "cL2qvqCJPiic",
    "outputId": "0a47d8ae-dd60-41ec-95ad-339cae476fa7"
   },
   "outputs": [
    {
     "name": "stdout",
     "output_type": "stream",
     "text": [
      "0.4526027629719195\n",
      "2900.193628493482\n"
     ]
    }
   ],
   "source": [
    "lr = LinearRegression()\n",
    "lr.fit(x_train, y_train)\n",
    "y_pred = lr.predict(x_test)\n",
    "print(r2_score(y_test, y_pred))\n",
    "print(mean_squared_error(y_test, y_pred))"
   ]
  },
  {
   "cell_type": "markdown",
   "metadata": {
    "id": "r1MdR5guSCAN"
   },
   "source": [
    "- R² Score: 0.4526, yang berarti model hanya menjelaskan sekitar 45,26% dari variasi data pengujian. Nilai R² yang lebih rendah dibandingkan pada blok pertama dapat mengindikasikan bahwa model mungkin mengalami penurunan performa ketika diterapkan pada data yang belum dilihat sebelumnya.\n",
    "- Mean Squared Error (MSE): 2900.1936, sedikit lebih tinggi dibandingkan dengan MSE pada blok pertama. Ini mengindikasikan bahwa prediksi model pada data pengujian cenderung kurang akurat.\n",
    "\n",
    "Hasil perbandingan ini menunjukkan bahwa model Linear Regression memiliki performa yang lebih buruk ketika dievaluasi pada data pengujian (dibandingkan dengan seluruh dataset). Nilai R2 yang lebih rendah pada data pengujian (0.4526) menunjukkan bahwa model mungkin tidak menangkap semua pola dalam data. Sementara itu, MSE yang sedikit lebih tinggi (2900.1936) menunjukkan bahwa ada deviasi prediksi dari nilai aktual. Secara keseluruhan, model linear regression ini menunjukkan kinerja yang sedang dalam memprediksi data diabetes, dengan variasi yang cukup besar antara hasil prediksi dan nilai sebenarnya.\n"
   ]
  }
 ],
 "metadata": {
  "colab": {
   "provenance": [],
   "toc_visible": true
  },
  "kernelspec": {
   "display_name": "base",
   "language": "python",
   "name": "python3"
  },
  "language_info": {
   "codemirror_mode": {
    "name": "ipython",
    "version": 3
   },
   "file_extension": ".py",
   "mimetype": "text/x-python",
   "name": "python",
   "nbconvert_exporter": "python",
   "pygments_lexer": "ipython3",
   "version": "3.11.5"
  }
 },
 "nbformat": 4,
 "nbformat_minor": 0
}
