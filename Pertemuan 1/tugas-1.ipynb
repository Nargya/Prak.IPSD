{
 "cells": [
  {
   "cell_type": "markdown",
   "metadata": {},
   "source": [
    "## NAUFAL ALIF ANARGYA_2311110041/SD04A"
   ]
  },
  {
   "cell_type": "markdown",
   "metadata": {},
   "source": [
    "### NO.1 Buatlah program yang dapat menghasilkan pola berbentuk angka seperti di bawah ini, dengan syarat angka yang ditampilkan adalah hasil dari penjumlahan bilangan prima sebelumnya"
   ]
  },
  {
   "cell_type": "code",
   "execution_count": 21,
   "metadata": {},
   "outputs": [
    {
     "name": "stdout",
     "output_type": "stream",
     "text": [
      "2 \n",
      "3 5 \n",
      "7 11 13 \n",
      "17 19 23 29 \n",
      "31 37 41 43 47 \n"
     ]
    }
   ],
   "source": [
    "def is_prime(n):\n",
    "    if n < 2:\n",
    "        return False\n",
    "    for i in range(2, int(n**0.5) + 1):\n",
    "        if n % i == 0:\n",
    "            return False\n",
    "    return True\n",
    "\n",
    "def generate_primes(limit):\n",
    "    primes = []\n",
    "    num = 2  \n",
    "    while len(primes) < limit:\n",
    "        if is_prime(num):\n",
    "            primes.append(num)\n",
    "        num += 1\n",
    "    return primes\n",
    "\n",
    "def print_prime_pattern(rows):\n",
    "    total_numbers = sum(range(1, rows + 1))  \n",
    "    primes = generate_primes(total_numbers)  \n",
    "    \n",
    "    index = 0\n",
    "    for row in range(1, rows + 1):\n",
    "        for _ in range(row):\n",
    "            print(primes[index], end=\" \")\n",
    "            index += 1\n",
    "        print()  \n",
    "\n",
    "print_prime_pattern(5)\n"
   ]
  },
  {
   "cell_type": "markdown",
   "metadata": {},
   "source": [
    "### NO.2 Buatlah sebuah fungsi yang menerima dua input berupa list angka. Fungsi ini harus mengembalikan sebuah list baru yang berisi elemen dari dua list input yang memiliki indeks ganjil. List baru tersebut juga harus diurutkan secara menurun berdasarkan nilai elemen."
   ]
  },
  {
   "cell_type": "code",
   "execution_count": 22,
   "metadata": {},
   "outputs": [
    {
     "name": "stdout",
     "output_type": "stream",
     "text": [
      "[67, 66, 45, 44, 23, 22]\n"
     ]
    }
   ],
   "source": [
    "def gabung_list_ganjil_sort(list1, list2):\n",
    "    elemen_ganjil_list1 = [list1[i] for i in range(1, len(list1), 2)]\n",
    "    elemen_ganjil_list2 = [list2[i] for i in range(1, len(list2), 2)]\n",
    "\n",
    "    gabungan_list = elemen_ganjil_list1 + elemen_ganjil_list2\n",
    "\n",
    "    gabungan_list.sort(reverse=True)\n",
    "    \n",
    "    return gabungan_list\n",
    "\n",
    "list1 = [12, 23, 34, 45, 56, 67]\n",
    "list2 = [11, 22, 33, 44, 55, 66]\n",
    "hasil = gabung_list_ganjil_sort(list1, list2)\n",
    "print(hasil)\n"
   ]
  },
  {
   "cell_type": "markdown",
   "metadata": {},
   "source": [
    "### No.3 Buat sebuah program untuk mensimulasikan transaksi ATM. Program harus:\n",
    "1. Meminta pengguna memasukkan PIN (dibatasi 3 kali percobaan).\n",
    "2. Setelah PIN benar, meminta jumlah penarikan.\n",
    "3. Jika saldo kurang dari jumlah yang ditarik, munculkan pesan kesalahan.\n",
    "4. Jika penarikan berhasil, tampilkan saldo akhir.\n"
   ]
  },
  {
   "cell_type": "code",
   "execution_count": 23,
   "metadata": {},
   "outputs": [
    {
     "name": "stdout",
     "output_type": "stream",
     "text": [
      "PIN benar. Anda bisa melakukan penarikan.\n",
      "Penarikan berhasil. Saldo Anda sekarang: Rp500000\n"
     ]
    }
   ],
   "source": [
    "saldo_awal = 1000000  \n",
    "PIN_benar = \"1234\"    \n",
    "percobaan_pin = 0     \n",
    "batas_percobaan = 3   \n",
    "\n",
    "while percobaan_pin < batas_percobaan:\n",
    "    pin_masukan = input(\"Masukkan PIN Anda: \")\n",
    "    \n",
    "    if pin_masukan == PIN_benar:\n",
    "        print(\"PIN benar. Anda bisa melakukan penarikan.\")\n",
    "        break\n",
    "    else:\n",
    "        percobaan_pin += 1\n",
    "        if percobaan_pin < batas_percobaan:\n",
    "            print(f\"PIN salah. Anda memiliki {batas_percobaan - percobaan_pin} kesempatan lagi.\")\n",
    "        else:\n",
    "            print(\"PIN salah. Kartu Anda diblokir.\")\n",
    "            exit()\n",
    "\n",
    "while True:\n",
    "    try:\n",
    "        jumlah_tarik = int(input(\"Masukkan jumlah penarikan: \"))\n",
    "        \n",
    "        if jumlah_tarik <= saldo_awal:\n",
    "            saldo_akhir = saldo_awal - jumlah_tarik\n",
    "            print(f\"Penarikan berhasil. Saldo Anda sekarang: Rp{saldo_akhir}\")\n",
    "            break\n",
    "        else:\n",
    "            print(\"Saldo tidak cukup untuk melakukan penarikan. Coba lagi.\")\n",
    "    except ValueError:\n",
    "        print(\"Masukkan jumlah penarikan yang valid.\")\n"
   ]
  },
  {
   "cell_type": "markdown",
   "metadata": {},
   "source": [
    "### No.4 Anda diberikan file CSV berisi data nilai ujian mahasiswa. Tugas Anda adalah menulis sebuah program yang:\n",
    "1. Membaca file CSV dan menyimpan datanya ke dalam dictionary.\n",
    "2. Menghitung rata-rata nilai tiap mahasiswa.\n",
    "3. Menampilkan mahasiswa dengan nilai tertinggi dan terendah."
   ]
  },
  {
   "cell_type": "code",
   "execution_count": 24,
   "metadata": {},
   "outputs": [
    {
     "name": "stdout",
     "output_type": "stream",
     "text": [
      "Rata-rata nilai: 72.00\n",
      "Nilai tertinggi: Siswa_7 dengan nilai 100\n",
      "Nilai terendah: Siswa_5 dengan nilai 50\n"
     ]
    }
   ],
   "source": [
    "import csv\n",
    "\n",
    "def baca_csv(file_name):\n",
    "    data_siswa = {}\n",
    "    with open(file_name, mode='r') as file:\n",
    "        csv_reader = csv.reader(file)\n",
    "        next(csv_reader)  \n",
    "        for row in csv_reader:\n",
    "            nama = row[0]\n",
    "            nilai = int(row[1])\n",
    "            data_siswa[nama] = nilai\n",
    "    return data_siswa\n",
    "\n",
    "def hitung_rata_rata(data_siswa):\n",
    "    total_nilai = sum(data_siswa.values())\n",
    "    jumlah_siswa = len(data_siswa)\n",
    "    rata_rata = total_nilai / jumlah_siswa\n",
    "    return rata_rata\n",
    "\n",
    "def cari_tertinggi_terendah(data_siswa):\n",
    "    siswa_tertinggi = max(data_siswa, key=data_siswa.get)\n",
    "    siswa_terendah = min(data_siswa, key=data_siswa.get)\n",
    "    return siswa_tertinggi, siswa_terendah\n",
    "\n",
    "def main():\n",
    "    file_name = 'siswa_nilai(1).csv'  \n",
    "    data_siswa = baca_csv(file_name)\n",
    "    \n",
    "    rata_rata = hitung_rata_rata(data_siswa)\n",
    "    print(f\"Rata-rata nilai: {rata_rata:.2f}\")\n",
    "    \n",
    "    siswa_tertinggi, siswa_terendah = cari_tertinggi_terendah(data_siswa)\n",
    "    print(f\"Nilai tertinggi: {siswa_tertinggi} dengan nilai {data_siswa[siswa_tertinggi]}\")\n",
    "    print(f\"Nilai terendah: {siswa_terendah} dengan nilai {data_siswa[siswa_terendah]}\")\n",
    "\n",
    "if __name__ == \"__main__\":\n",
    "    main()\n"
   ]
  },
  {
   "cell_type": "markdown",
   "metadata": {},
   "source": [
    "### No.5 Buatlah permainan sederhana menggunakan Python, di mana komputer akan memilih sebuah angka secara acak antara 1 hingga 100, dan pengguna harus menebak angka tersebut. Setiap tebakan yang salah akan memberikan petunjuk apakah angka yang ditebak lebih besar atau lebih kecil dari angka sebenarnya. Batasi jumlah percobaan menjadi 5 kali. Setelah permainan selesai, tampilkan apakah pemain menang atau kalah."
   ]
  },
  {
   "cell_type": "code",
   "execution_count": 25,
   "metadata": {},
   "outputs": [
    {
     "name": "stdout",
     "output_type": "stream",
     "text": [
      "Welcome to the guessing game!\n",
      "I'm thinking of a number between 1 and 100.\n",
      "You have 5 attempts to guess it.\n",
      "Your guess is too low. Try again!\n",
      "Your guess is too low. Try again!\n",
      "Your guess is too high. Try again!\n",
      "Your guess is too low. Try again!\n",
      "Your guess is too low. Try again!\n",
      "Sorry, you lost. The correct answer was 47\n"
     ]
    }
   ],
   "source": [
    "import random\n",
    "\n",
    "secret_number = random.randint(1, 100)\n",
    "\n",
    "attempts = 0\n",
    "\n",
    "won = False\n",
    "\n",
    "print(\"Welcome to the guessing game!\")\n",
    "print(\"I'm thinking of a number between 1 and 100.\")\n",
    "print(\"You have 5 attempts to guess it.\")\n",
    "\n",
    "while attempts < 5:\n",
    "    user_guess = int(input(\"Enter your guess: \"))\n",
    "\n",
    "    if user_guess == secret_number:\n",
    "        print(\" Congratulations! You won!\")\n",
    "        won = True\n",
    "        break\n",
    "\n",
    "    elif user_guess < secret_number:\n",
    "        print(\"Your guess is too low. Try again!\")\n",
    "    else:\n",
    "        print(\"Your guess is too high. Try again!\")\n",
    "\n",
    "    attempts += 1\n",
    "\n",
    "if won:\n",
    "    print(\"You won in\", attempts, \"attempts!\")\n",
    "else:\n",
    "    print(\"Sorry, you lost. The correct answer was\", secret_number)"
   ]
  },
  {
   "cell_type": "markdown",
   "metadata": {},
   "source": [
    "### No.6 Buat fungsi rekursif yang menerima input bilangan bulat `n` dan menghasilkan urutan bilangan seperti berikut ini:\n",
    "Input: n = 4\n",
    "Output: 1, 1, 2, 6, 24\n"
   ]
  },
  {
   "cell_type": "code",
   "execution_count": 26,
   "metadata": {},
   "outputs": [
    {
     "name": "stdout",
     "output_type": "stream",
     "text": [
      "[1, 2, 6, 24]\n"
     ]
    }
   ],
   "source": [
    "def factorial(n):\n",
    "    if n == 0 or n == 1:\n",
    "        return 1\n",
    "    else:\n",
    "        return n * factorial(n - 1)\n",
    "\n",
    "def generate_sequence(n):\n",
    "    sequence = []\n",
    "    for i in range(1, n + 1):\n",
    "        sequence.append(factorial(i))\n",
    "    return sequence\n",
    "\n",
    "n = 4\n",
    "result = generate_sequence(n)\n",
    "print(result)  \n"
   ]
  },
  {
   "cell_type": "markdown",
   "metadata": {},
   "source": [
    "### No. 7 Buatlah program untuk memecahkan masalah \"minimum coin change\". Diberikan jumlah uang dan daftar nilai koin yang tersedia (misalnya, 1, 5, 10, 25), tentukan kombinasi minimum koin yang diperlukan untuk mencapai jumlah uang tersebut. Namun, program Anda harus bisa menangani koin-koin yang nilai dan jumlahnya ditentukan pengguna."
   ]
  },
  {
   "cell_type": "code",
   "execution_count": 27,
   "metadata": {},
   "outputs": [
    {
     "name": "stdout",
     "output_type": "stream",
     "text": [
      "Jumlah minimum koin yang diperlukan: 4\n",
      "Koin yang digunakan: [3, 4, 4, 4]\n"
     ]
    }
   ],
   "source": [
    "def min_coin_change(coins, amount):\n",
    "    dp = [float('inf')] * (amount + 1)\n",
    "    \n",
    "    dp[0] = 0\n",
    "    \n",
    "    for i in range(1, amount + 1):\n",
    "        for coin in coins:\n",
    "            if coin <= i:  \n",
    "                dp[i] = min(dp[i], dp[i - coin] + 1)\n",
    "    \n",
    "    return dp[amount] if dp[amount] != float('inf') else -1\n",
    "\n",
    "def find_coins_used(coins, amount):\n",
    "    dp = [float('inf')] * (amount + 1)\n",
    "    dp[0] = 0\n",
    "    for i in range(1, amount + 1):\n",
    "        for coin in coins:\n",
    "            if coin <= i:\n",
    "                dp[i] = min(dp[i], dp[i - coin] + 1)\n",
    "\n",
    "    if dp[amount] == float('inf'):\n",
    "        return []\n",
    "\n",
    "    result = []\n",
    "    while amount > 0:\n",
    "        for coin in coins:\n",
    "            if amount >= coin and dp[amount] == dp[amount - coin] + 1:\n",
    "                result.append(coin)\n",
    "                amount -= coin\n",
    "                break\n",
    "    return result\n",
    "\n",
    "coins = list(map(int, input(\"Masukkan nilai koin (dipisahkan dengan spasi): \").split()))\n",
    "amount = int(input(\"Masukkan jumlah uang: \"))\n",
    "\n",
    "min_coins = min_coin_change(coins, amount)\n",
    "coins_used = find_coins_used(coins, amount)\n",
    "\n",
    "if min_coins == -1:\n",
    "    print(\"Tidak mungkin mencapai jumlah tersebut dengan kombinasi koin yang ada.\")\n",
    "else:\n",
    "    print(f\"Jumlah minimum koin yang diperlukan: {min_coins}\")\n",
    "    print(f\"Koin yang digunakan: {coins_used}\")\n"
   ]
  },
  {
   "cell_type": "markdown",
   "metadata": {},
   "source": [
    "### No.8 Buat sebuah program yang menerima string dari pengguna dan mengonversi string tersebut menjadi sebuah list berisi kata-kata terbalik. Misalnya:\n",
    "Input: \"Saya suka Python\"\n",
    "Output: [\"ayaS\", \"akus\", \"nohtyP\"]"
   ]
  },
  {
   "cell_type": "code",
   "execution_count": 28,
   "metadata": {},
   "outputs": [
    {
     "name": "stdout",
     "output_type": "stream",
     "text": [
      "['nahraf', 'babek']\n"
     ]
    }
   ],
   "source": [
    "def reverse_words(input_string):\n",
    "    words = input_string.split()\n",
    "    reversed_words = [word[::-1] for word in words]\n",
    "    return reversed_words\n",
    "\n",
    "input_string = input(\"Enter a string: \")\n",
    "result = reverse_words(input_string)\n",
    "print(result)"
   ]
  },
  {
   "cell_type": "markdown",
   "metadata": {},
   "source": [
    "### No. 9 Buat class bernama `Buku` yang memiliki atribut `judul`, `penulis`, dan `tahun_terbit`. Buat method dalam class untuk menampilkan informasi buku, serta method untuk menghitung usia buku berdasarkan tahun saat ini. Buatlah 3 objek dari class `Buku` dan tampilkan informasi serta usia masing-masing buku."
   ]
  },
  {
   "cell_type": "code",
   "execution_count": 29,
   "metadata": {},
   "outputs": [
    {
     "name": "stdout",
     "output_type": "stream",
     "text": [
      "Judul: Laskar Pelangi\n",
      "Penulis: Andrea Hirata\n",
      "Tahun Terbit: 2005\n",
      "Usia Buku: 19 tahun\n",
      "\n",
      "Judul: Harry Potter and the Sorcerer's Stone\n",
      "Penulis: J.K. Rowling\n",
      "Tahun Terbit: 1997\n",
      "Usia Buku: 27 tahun\n",
      "\n",
      "Judul: Atomic Habits\n",
      "Penulis: James Clear\n",
      "Tahun Terbit: 2018\n",
      "Usia Buku: 6 tahun\n",
      "\n"
     ]
    }
   ],
   "source": [
    "from datetime import datetime\n",
    "\n",
    "class Buku:\n",
    "    def __init__(self, judul, penulis, tahun_terbit):\n",
    "        self.judul = judul\n",
    "        self.penulis = penulis\n",
    "        self.tahun_terbit = tahun_terbit\n",
    "    \n",
    "    def tampilkan_informasi(self):\n",
    "        print(f\"Judul: {self.judul}\")\n",
    "        print(f\"Penulis: {self.penulis}\")\n",
    "        print(f\"Tahun Terbit: {self.tahun_terbit}\")\n",
    "    \n",
    "    def hitung_usia(self):\n",
    "        tahun_sekarang = datetime.now().year\n",
    "        usia = tahun_sekarang - self.tahun_terbit\n",
    "        return usia\n",
    "\n",
    "buku1 = Buku(\"Laskar Pelangi\", \"Andrea Hirata\", 2005)\n",
    "buku2 = Buku(\"Harry Potter and the Sorcerer's Stone\", \"J.K. Rowling\", 1997)\n",
    "buku3 = Buku(\"Atomic Habits\", \"James Clear\", 2018)\n",
    "\n",
    "buku_list = [buku1, buku2, buku3]\n",
    "for buku in buku_list:\n",
    "    buku.tampilkan_informasi()\n",
    "    print(f\"Usia Buku: {buku.hitung_usia()} tahun\\n\")"
   ]
  },
  {
   "cell_type": "markdown",
   "metadata": {},
   "source": [
    "### No. 10 Buatlah program yang mengimplementasikan algoritma pencarian biner, namun dengan modifikasi: algoritma harus bisa mencari nilai di list yang hanya berisi angka genap, dan jika nilai yang dicari adalah angka ganjil, program harus menampilkan pesan bahwa nilai tersebut tidak bisa ditemukan."
   ]
  },
  {
   "cell_type": "code",
   "execution_count": 30,
   "metadata": {},
   "outputs": [
    {
     "name": "stdout",
     "output_type": "stream",
     "text": [
      "26 not found in the list\n"
     ]
    }
   ],
   "source": [
    "def binary_search_even(numbers, target):\n",
    "    low = 0\n",
    "    high = len(numbers) - 1\n",
    "\n",
    "    while low <= high:\n",
    "        mid = (low + high) // 2\n",
    "        if numbers[mid] == target:\n",
    "            if target % 2 == 0:  \n",
    "                return mid\n",
    "            else:\n",
    "                return -1  \n",
    "        elif numbers[mid] < target:\n",
    "            low = mid + 1\n",
    "        else:\n",
    "            high = mid - 1\n",
    "\n",
    "    return -1  \n",
    "\n",
    "numbers = [2, 4, 6, 8, 10, 12, 14, 16, 18, 20]\n",
    "target = int(input(\"Enter a number to search: \"))\n",
    "\n",
    "result = binary_search_even(numbers, target)\n",
    "\n",
    "if result != -1:\n",
    "    print(f\"Found {target} at index {result}\")\n",
    "else:\n",
    "    if target % 2 == 0:\n",
    "        print(f\"{target} not found in the list\")\n",
    "    else:\n",
    "        print(f\"{target} is an odd number and cannot be found in the list\")"
   ]
  }
 ],
 "metadata": {
  "kernelspec": {
   "display_name": "base",
   "language": "python",
   "name": "python3"
  },
  "language_info": {
   "codemirror_mode": {
    "name": "ipython",
    "version": 3
   },
   "file_extension": ".py",
   "mimetype": "text/x-python",
   "name": "python",
   "nbconvert_exporter": "python",
   "pygments_lexer": "ipython3",
   "version": "3.11.5"
  }
 },
 "nbformat": 4,
 "nbformat_minor": 2
}
